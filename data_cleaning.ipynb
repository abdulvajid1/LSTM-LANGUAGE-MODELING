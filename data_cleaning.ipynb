{
 "cells": [
  {
   "cell_type": "code",
   "execution_count": 53,
   "metadata": {},
   "outputs": [],
   "source": [
    "import pypdf\n",
    "import glob\n",
    "import tqdm\n",
    "import re\n",
    "import string\n",
    "import tiktoken\n",
    "\n",
    "from datasets import load_dataset\n",
    "\n",
    "import torch\n",
    "from torch.utils.data import DataLoader\n",
    "\n"
   ]
  },
  {
   "cell_type": "code",
   "execution_count": 2,
   "metadata": {},
   "outputs": [],
   "source": [
    "tokenizer = tiktoken.get_encoding('gpt2')"
   ]
  },
  {
   "cell_type": "code",
   "execution_count": 19,
   "metadata": {},
   "outputs": [
    {
     "name": "stderr",
     "output_type": "stream",
     "text": [
      "Using the latest cached version of the dataset since upstage/Pretraining_Dataset couldn't be found on the Hugging Face Hub\n",
      "Found the latest cached dataset configuration 'default' at /Users/abdulvajid/.cache/huggingface/datasets/upstage___pretraining_dataset/default/0.0.0/503fc24673fe4ffc7e2bd2c339c318fa12c16524 (last modified on Wed Apr 30 18:15:14 2025).\n"
     ]
    }
   ],
   "source": [
    "ds = load_dataset('upstage/Pretraining_Dataset')"
   ]
  },
  {
   "cell_type": "code",
   "execution_count": 9,
   "metadata": {},
   "outputs": [
    {
     "name": "stdout",
     "output_type": "stream",
     "text": [
      "{'text': \"In 1793 Zaman Shah, a grandson of Ahmad Shah Durrani, won a brief war of succession to become ruler of Afghanistan. The support of Painda Khan, chief of the Baraksai branch of the Durrani tribe, was decisive in his victory. In the next fifty year., the brothers of Zaman shah and the sons of Painda Khan were to dominate the affairs of Afghanistan. The Durrani tribe was very large with several branches and numerous clans. 1 Abmad Shah and his successors belonged to the Sadozai clan, but other clans, such as the Mohammedzai of Painda Khan, were larger and more powerful and this situation caused many problems.\\nMahmud had revolted unsuccessfully several times with Persian backing, but now with Fateh Khan's help he was able to defeat Zaman who was captured and blinded. Mahmud's position was insecure however. Persian invasions threatened, the tribes were discontented, and another brother of Zaman, Shuja-ul-Mulk, was in arms against him. In 1803 Shuja succeeded in toppling Mahmud after three years in power. But Shuja's rule was effective only in Kabul and Peshawar since Mahmud's brother Firuz held Herat, and Fateh Khan controUed the country around Kandahar. Mahmud escaped from the prison where he had been confined and in 1809 he and Fateh Khan defeated Shuja, who eventually fled to India where he was given a pension by the British, and Mabmud returned to power.\\nDuring his years in power Fateh Khan had made many enemies including Mabmud's son Kamran, and most recently Firuz. At this point Fath Ali Shah of Persia sent Mahmud an ultimatum to dispose of Fateh Khan or face a massive Persian invasion. 5 These combined factors, persuaded Mahmud to sacrifice his vizier. Fateh Khan was seized, blinded, kept prisoner, and finally cut to pieces in 1818. 6 Like Zaman, Mabmud had destroyed the man who was keeping him on the throne and his fall was equally swift. Fateh Khan's brothers led a general revolt and assumed control themselves while Mabmud, Kamran, and Firuz fled to Herat.\\nThese continued civil wars and the division of royal authority were disastrous for Afghanistan. Herat was cast adrift and now isolated and surrounded by enemies. On the west, the Persians were eager to make good their long-standing claim to the city. On the east, only the disunity of Fateh Khan's brothers prevented them from avenging him. Herat might have fallen to either one if it had not first begun to arouse the interest of outside powers.\", 'meta': {'redpajama_set_name': 'RedPajamaC4'}}\n"
     ]
    }
   ],
   "source": [
    "for i in ds['train']:\n",
    "    print(i)\n",
    "    break"
   ]
  },
  {
   "cell_type": "code",
   "execution_count": null,
   "metadata": {},
   "outputs": [],
   "source": [
    "def tokenization(batch):\n",
    "    return {\"input_ids\" : torch.tensor(tokenizer.encode(batch['text'], allowed_special={\"<|endoftext|>\"}))}"
   ]
  },
  {
   "cell_type": "code",
   "execution_count": 34,
   "metadata": {},
   "outputs": [
    {
     "data": {
      "application/vnd.jupyter.widget-view+json": {
       "model_id": "5e9bdfa823474f17bb2074f22ffdda29",
       "version_major": 2,
       "version_minor": 0
      },
      "text/plain": [
       "Map:   0%|          | 0/60000 [00:00<?, ? examples/s]"
      ]
     },
     "metadata": {},
     "output_type": "display_data"
    }
   ],
   "source": [
    "ds = ds.map(tokenization)"
   ]
  },
  {
   "cell_type": "code",
   "execution_count": 43,
   "metadata": {},
   "outputs": [],
   "source": [
    "ds.set_format('torch')\n",
    "ds = ds.remove_columns(['meta'])"
   ]
  },
  {
   "cell_type": "code",
   "execution_count": 59,
   "metadata": {},
   "outputs": [],
   "source": [
    "data_loader = DataLoader(dataset=ds['train'],batch_size=1, shuffle=True)"
   ]
  },
  {
   "cell_type": "code",
   "execution_count": 60,
   "metadata": {},
   "outputs": [
    {
     "name": "stdout",
     "output_type": "stream",
     "text": [
      "{'text': ['Home > CONF_EVENTS > URC > URC 2018 > POLISCI > 2\\nFrench Colonialism in Cameroon: The Institution of the French Language and its Control Over the Language(s), Politics and Religions of Cameroon\\nRainie Grant, Butler University\\n13-4-2018 9:15 AM\\nSylvie Vanbaelen (Butler University)\\nMy thesis claims that the French colonization still affects Cameroon, and that there are negative effects to the usage of the French language within Cameroon in terms of religion, politics, and language. Comprehensive research regarding this topic is necessary to understand why there is conflict between the Anglophone and Francophone populations of Cameroon. There is also a psychological element to this issue since language shapes how we think and see the world. Language affects the mind and establishing the language of the colonizer as the \"superior language\" in a colony is the first cultural step of colonialism. I would like to expose a potential effect of the continual use of the French language on indigenous language which could be death of indigenous languages. Language extinction further leads to the death of cultures and common history among populations in Cameroon. It is also crucial to understand the relationship between colonialism and the prevalence of certain religions in Cameroon which also shape people\\'s beliefs, views of the world, and how they relate to other people. Finally, the establishment of a \"superior\" colonial language helps to create a socioeconomic gap within a society and can explain contemporary conflicts in many states that have been colonized, including Cameroon. By addressing these subtopics of my overall thesis, I will shape a comprehensive case study of contemporary conflicts in Cameroon and their relationship to the French language established through colonialism. This could potentially be further used to address similar structures in other colonized states.\\nApr 13th, 9:15 AM Apr 13th, 10:15 AM'], 'input_ids': tensor([[16060,  1875,  7102,    37,    62, 20114, 15365,  1875,   471,  7397,\n",
      "          1875,   471,  7397,  2864,  1875, 20634,  1797, 25690,  1875,   362,\n",
      "           198, 24111, 37726,  1042,   287, 44568,    25,   383, 29426,   286,\n",
      "           262,  4141, 15417,   290,   663,  6779,  3827,   262, 15417,     7,\n",
      "            82,   828, 17554,   290,  4718,   328,   507,   286, 44568,   198,\n",
      "         31443,   494, 12181,    11, 17389,  2059,   198,  1485,    12,    19,\n",
      "            12,  7908,   860,    25,  1314,  3001,   198,    50,  2645,    85,\n",
      "           494,  6656,    65,  3010,   268,   357,  1537,  1754,  2059,     8,\n",
      "           198,  3666, 21554,  3667,   326,   262,  4141, 40337,   991, 10975,\n",
      "         44568,    11,   290,   326,   612,   389,  4633,  3048,   284,   262,\n",
      "          8748,   286,   262,  4141,  3303,  1626, 44568,   287,  2846,   286,\n",
      "          5737,    11,  4819,    11,   290,  3303,    13, 40917,  2267,  5115,\n",
      "           428,  7243,   318,  3306,   284,  1833,  1521,   612,   318,  5358,\n",
      "          1022,   262,  2895,    75, 38656,   290,  4682, 38656,  9684,   286,\n",
      "         44568,    13,  1318,   318,   635,   257, 10590,  5002,   284,   428,\n",
      "          2071,  1201,  3303, 15268,   703,   356,   892,   290,   766,   262,\n",
      "           995,    13, 15417, 10975,   262,  2000,   290, 15010,   262,  3303,\n",
      "           286,   262,  7633,  7509,   355,   262,   366, 16668,  1504,  3303,\n",
      "             1,   287,   257, 18815,   318,   262,   717,  6467,  2239,   286,\n",
      "         48359,    13,   314,   561,   588,   284, 15651,   257,  2785,  1245,\n",
      "           286,   262, 37639,   779,   286,   262,  4141,  3303,   319, 17673,\n",
      "          3303,   543,   714,   307,  1918,   286, 17673,  8950,    13, 15417,\n",
      "         21935,  2252,  5983,   284,   262,  1918,   286, 13817,   290,  2219,\n",
      "          2106,  1871,  9684,   287, 44568,    13,   632,   318,   635,  8780,\n",
      "           284,  1833,   262,  2776,  1022, 48359,   290,   262, 16815,   286,\n",
      "          1728, 18879,   287, 44568,   543,   635,  5485,   661,   338,  9056,\n",
      "            11,  5009,   286,   262,   995,    11,   290,   703,   484, 15124,\n",
      "           284,   584,   661,    13,  9461,    11,   262,  9323,   286,   257,\n",
      "           366, 16668,  1504,     1, 17091,  3303,  5419,   284,  2251,   257,\n",
      "         34406,  7625,  1626,   257,  3592,   290,   460,  4727, 11811, 12333,\n",
      "           287,   867,  2585,   326,   423,   587,  7633,  1143,    11,  1390,\n",
      "         44568,    13,  2750, 13593,   777,   850,  4852,   873,   286,   616,\n",
      "          4045, 21554,    11,   314,   481,  5485,   257,  9815,  1339,  2050,\n",
      "           286, 11811, 12333,   287, 44568,   290,   511,  2776,   284,   262,\n",
      "          4141,  3303,  4920,   832, 48359,    13,   770,   714,  6196,   307,\n",
      "          2252,   973,   284,  2209,  2092,  8573,   287,   584,  7633,  1143,\n",
      "          2585,    13,   198, 13680,  1511,   400,    11,   860,    25,  1314,\n",
      "          3001,  2758,  1511,   400,    11,   838,    25,  1314,  3001]])}\n"
     ]
    }
   ],
   "source": [
    "dl_itrator = iter(data_loader)\n",
    "\n",
    "print(next(dl_itrator))"
   ]
  },
  {
   "cell_type": "code",
   "execution_count": null,
   "metadata": {},
   "outputs": [],
   "source": []
  }
 ],
 "metadata": {
  "kernelspec": {
   "display_name": ".venv",
   "language": "python",
   "name": "python3"
  },
  "language_info": {
   "codemirror_mode": {
    "name": "ipython",
    "version": 3
   },
   "file_extension": ".py",
   "mimetype": "text/x-python",
   "name": "python",
   "nbconvert_exporter": "python",
   "pygments_lexer": "ipython3",
   "version": "3.9.6"
  }
 },
 "nbformat": 4,
 "nbformat_minor": 2
}
